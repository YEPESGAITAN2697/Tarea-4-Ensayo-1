{
 "cells": [
  {
   "cell_type": "code",
   "execution_count": 17,
   "id": "367ef078-e978-4183-a06c-fb3215d2e11d",
   "metadata": {},
   "outputs": [],
   "source": [
    "\n",
    "\n",
    "\n",
    "\n",
    "# Realizar un análisis exploratorio de los datos para identificar \n",
    "#relaciones entre variables, valores atípicos, tendencias, etc.\n",
    "\n",
    "# PRIMERO QUE TODO CARGAMOS LAS LIBRERIAS NECESRARIAS PARA DESARROLLAR LA ACTIVIDAD:\n",
    "\n",
    "import pandas as pd # Maanejo y analisis de Estructuras Datos\n",
    "import numpy as np # calculo numerico y el Analisis de Datos\n",
    "import seaborn as sns # creacion de graficos de estadisticas\n",
    "import matplotlib.pyplot as plt # creacion de graficos en doss dimensiones\n",
    "import plotly.graph_objs as go # creacion de graficos en tres dimensiones\n",
    "import plotly.express as px # creacion de graficos en tres dimensiones\n",
    "\n",
    "\n",
    "# librerias PARA IMPLEMENTAR MODEL K-MEANS\n",
    "from sklearn.cluster import KMeans\n",
    "from sklearn.preprocessing import LabelEncoder\n",
    "\n",
    "#librerias PARA EVALUAR EL MODELO\n",
    "from sklearn.metrics import silhouette_score, calinski_harabasz_score, davies_bouldin_score\n",
    "\n",
    "#LIBRERIA PARA EVITAR LA ADVERTENCIA DE QUE EL MODELO DE K-MEANS TIENE UNA PERDIDA DE MEMORIA EN WINDOWS\n",
    "\n",
    "import warnings \n",
    "warnings.filterwarnings('ignore')\n",
    "\n"
   ]
  },
  {
   "cell_type": "code",
   "execution_count": 18,
   "id": "3cc42a11-212c-4754-a453-a3ba32fe64fc",
   "metadata": {},
   "outputs": [],
   "source": [
    "#lectura de datos en python y lo cargamos en la variable Datos.\n",
    "\n",
    "Datos = pd.read_csv('./Mall_Customers.csv')"
   ]
  },
  {
   "cell_type": "code",
   "execution_count": 19,
   "id": "577bdd03-d13a-4725-b3a6-bbf9e739d9c8",
   "metadata": {},
   "outputs": [
    {
     "data": {
      "text/html": [
       "<div>\n",
       "<style scoped>\n",
       "    .dataframe tbody tr th:only-of-type {\n",
       "        vertical-align: middle;\n",
       "    }\n",
       "\n",
       "    .dataframe tbody tr th {\n",
       "        vertical-align: top;\n",
       "    }\n",
       "\n",
       "    .dataframe thead th {\n",
       "        text-align: right;\n",
       "    }\n",
       "</style>\n",
       "<table border=\"1\" class=\"dataframe\">\n",
       "  <thead>\n",
       "    <tr style=\"text-align: right;\">\n",
       "      <th></th>\n",
       "      <th>CustomerID</th>\n",
       "      <th>Gender</th>\n",
       "      <th>Age</th>\n",
       "      <th>Annual Income (k$)</th>\n",
       "      <th>Spending Score (1-100)</th>\n",
       "    </tr>\n",
       "  </thead>\n",
       "  <tbody>\n",
       "    <tr>\n",
       "      <th>0</th>\n",
       "      <td>1</td>\n",
       "      <td>Male</td>\n",
       "      <td>19</td>\n",
       "      <td>15</td>\n",
       "      <td>39</td>\n",
       "    </tr>\n",
       "    <tr>\n",
       "      <th>1</th>\n",
       "      <td>2</td>\n",
       "      <td>Male</td>\n",
       "      <td>21</td>\n",
       "      <td>15</td>\n",
       "      <td>81</td>\n",
       "    </tr>\n",
       "    <tr>\n",
       "      <th>2</th>\n",
       "      <td>3</td>\n",
       "      <td>Female</td>\n",
       "      <td>20</td>\n",
       "      <td>16</td>\n",
       "      <td>6</td>\n",
       "    </tr>\n",
       "    <tr>\n",
       "      <th>3</th>\n",
       "      <td>4</td>\n",
       "      <td>Female</td>\n",
       "      <td>23</td>\n",
       "      <td>16</td>\n",
       "      <td>77</td>\n",
       "    </tr>\n",
       "    <tr>\n",
       "      <th>4</th>\n",
       "      <td>5</td>\n",
       "      <td>Female</td>\n",
       "      <td>31</td>\n",
       "      <td>17</td>\n",
       "      <td>40</td>\n",
       "    </tr>\n",
       "    <tr>\n",
       "      <th>5</th>\n",
       "      <td>6</td>\n",
       "      <td>Female</td>\n",
       "      <td>22</td>\n",
       "      <td>17</td>\n",
       "      <td>76</td>\n",
       "    </tr>\n",
       "    <tr>\n",
       "      <th>6</th>\n",
       "      <td>7</td>\n",
       "      <td>Female</td>\n",
       "      <td>35</td>\n",
       "      <td>18</td>\n",
       "      <td>6</td>\n",
       "    </tr>\n",
       "    <tr>\n",
       "      <th>7</th>\n",
       "      <td>8</td>\n",
       "      <td>Female</td>\n",
       "      <td>23</td>\n",
       "      <td>18</td>\n",
       "      <td>94</td>\n",
       "    </tr>\n",
       "    <tr>\n",
       "      <th>8</th>\n",
       "      <td>9</td>\n",
       "      <td>Male</td>\n",
       "      <td>64</td>\n",
       "      <td>19</td>\n",
       "      <td>3</td>\n",
       "    </tr>\n",
       "    <tr>\n",
       "      <th>9</th>\n",
       "      <td>10</td>\n",
       "      <td>Female</td>\n",
       "      <td>30</td>\n",
       "      <td>19</td>\n",
       "      <td>72</td>\n",
       "    </tr>\n",
       "    <tr>\n",
       "      <th>10</th>\n",
       "      <td>11</td>\n",
       "      <td>Male</td>\n",
       "      <td>67</td>\n",
       "      <td>19</td>\n",
       "      <td>14</td>\n",
       "    </tr>\n",
       "    <tr>\n",
       "      <th>11</th>\n",
       "      <td>12</td>\n",
       "      <td>Female</td>\n",
       "      <td>35</td>\n",
       "      <td>19</td>\n",
       "      <td>99</td>\n",
       "    </tr>\n",
       "    <tr>\n",
       "      <th>12</th>\n",
       "      <td>13</td>\n",
       "      <td>Female</td>\n",
       "      <td>58</td>\n",
       "      <td>20</td>\n",
       "      <td>15</td>\n",
       "    </tr>\n",
       "    <tr>\n",
       "      <th>13</th>\n",
       "      <td>14</td>\n",
       "      <td>Female</td>\n",
       "      <td>24</td>\n",
       "      <td>20</td>\n",
       "      <td>77</td>\n",
       "    </tr>\n",
       "    <tr>\n",
       "      <th>14</th>\n",
       "      <td>15</td>\n",
       "      <td>Male</td>\n",
       "      <td>37</td>\n",
       "      <td>20</td>\n",
       "      <td>13</td>\n",
       "    </tr>\n",
       "    <tr>\n",
       "      <th>15</th>\n",
       "      <td>16</td>\n",
       "      <td>Male</td>\n",
       "      <td>22</td>\n",
       "      <td>20</td>\n",
       "      <td>79</td>\n",
       "    </tr>\n",
       "    <tr>\n",
       "      <th>16</th>\n",
       "      <td>17</td>\n",
       "      <td>Female</td>\n",
       "      <td>35</td>\n",
       "      <td>21</td>\n",
       "      <td>35</td>\n",
       "    </tr>\n",
       "    <tr>\n",
       "      <th>17</th>\n",
       "      <td>18</td>\n",
       "      <td>Male</td>\n",
       "      <td>20</td>\n",
       "      <td>21</td>\n",
       "      <td>66</td>\n",
       "    </tr>\n",
       "    <tr>\n",
       "      <th>18</th>\n",
       "      <td>19</td>\n",
       "      <td>Male</td>\n",
       "      <td>52</td>\n",
       "      <td>23</td>\n",
       "      <td>29</td>\n",
       "    </tr>\n",
       "    <tr>\n",
       "      <th>19</th>\n",
       "      <td>20</td>\n",
       "      <td>Female</td>\n",
       "      <td>35</td>\n",
       "      <td>23</td>\n",
       "      <td>98</td>\n",
       "    </tr>\n",
       "    <tr>\n",
       "      <th>20</th>\n",
       "      <td>21</td>\n",
       "      <td>Male</td>\n",
       "      <td>35</td>\n",
       "      <td>24</td>\n",
       "      <td>35</td>\n",
       "    </tr>\n",
       "    <tr>\n",
       "      <th>21</th>\n",
       "      <td>22</td>\n",
       "      <td>Male</td>\n",
       "      <td>25</td>\n",
       "      <td>24</td>\n",
       "      <td>73</td>\n",
       "    </tr>\n",
       "    <tr>\n",
       "      <th>22</th>\n",
       "      <td>23</td>\n",
       "      <td>Female</td>\n",
       "      <td>46</td>\n",
       "      <td>25</td>\n",
       "      <td>5</td>\n",
       "    </tr>\n",
       "    <tr>\n",
       "      <th>23</th>\n",
       "      <td>24</td>\n",
       "      <td>Male</td>\n",
       "      <td>31</td>\n",
       "      <td>25</td>\n",
       "      <td>73</td>\n",
       "    </tr>\n",
       "    <tr>\n",
       "      <th>24</th>\n",
       "      <td>25</td>\n",
       "      <td>Female</td>\n",
       "      <td>54</td>\n",
       "      <td>28</td>\n",
       "      <td>14</td>\n",
       "    </tr>\n",
       "    <tr>\n",
       "      <th>25</th>\n",
       "      <td>26</td>\n",
       "      <td>Male</td>\n",
       "      <td>29</td>\n",
       "      <td>28</td>\n",
       "      <td>82</td>\n",
       "    </tr>\n",
       "    <tr>\n",
       "      <th>26</th>\n",
       "      <td>27</td>\n",
       "      <td>Female</td>\n",
       "      <td>45</td>\n",
       "      <td>28</td>\n",
       "      <td>32</td>\n",
       "    </tr>\n",
       "    <tr>\n",
       "      <th>27</th>\n",
       "      <td>28</td>\n",
       "      <td>Male</td>\n",
       "      <td>35</td>\n",
       "      <td>28</td>\n",
       "      <td>61</td>\n",
       "    </tr>\n",
       "    <tr>\n",
       "      <th>28</th>\n",
       "      <td>29</td>\n",
       "      <td>Female</td>\n",
       "      <td>40</td>\n",
       "      <td>29</td>\n",
       "      <td>31</td>\n",
       "    </tr>\n",
       "    <tr>\n",
       "      <th>29</th>\n",
       "      <td>30</td>\n",
       "      <td>Female</td>\n",
       "      <td>23</td>\n",
       "      <td>29</td>\n",
       "      <td>87</td>\n",
       "    </tr>\n",
       "    <tr>\n",
       "      <th>30</th>\n",
       "      <td>31</td>\n",
       "      <td>Male</td>\n",
       "      <td>60</td>\n",
       "      <td>30</td>\n",
       "      <td>4</td>\n",
       "    </tr>\n",
       "    <tr>\n",
       "      <th>31</th>\n",
       "      <td>32</td>\n",
       "      <td>Female</td>\n",
       "      <td>21</td>\n",
       "      <td>30</td>\n",
       "      <td>73</td>\n",
       "    </tr>\n",
       "    <tr>\n",
       "      <th>32</th>\n",
       "      <td>33</td>\n",
       "      <td>Male</td>\n",
       "      <td>53</td>\n",
       "      <td>33</td>\n",
       "      <td>4</td>\n",
       "    </tr>\n",
       "    <tr>\n",
       "      <th>33</th>\n",
       "      <td>34</td>\n",
       "      <td>Male</td>\n",
       "      <td>18</td>\n",
       "      <td>33</td>\n",
       "      <td>92</td>\n",
       "    </tr>\n",
       "    <tr>\n",
       "      <th>34</th>\n",
       "      <td>35</td>\n",
       "      <td>Female</td>\n",
       "      <td>49</td>\n",
       "      <td>33</td>\n",
       "      <td>14</td>\n",
       "    </tr>\n",
       "    <tr>\n",
       "      <th>35</th>\n",
       "      <td>36</td>\n",
       "      <td>Female</td>\n",
       "      <td>21</td>\n",
       "      <td>33</td>\n",
       "      <td>81</td>\n",
       "    </tr>\n",
       "    <tr>\n",
       "      <th>36</th>\n",
       "      <td>37</td>\n",
       "      <td>Female</td>\n",
       "      <td>42</td>\n",
       "      <td>34</td>\n",
       "      <td>17</td>\n",
       "    </tr>\n",
       "    <tr>\n",
       "      <th>37</th>\n",
       "      <td>38</td>\n",
       "      <td>Female</td>\n",
       "      <td>30</td>\n",
       "      <td>34</td>\n",
       "      <td>73</td>\n",
       "    </tr>\n",
       "    <tr>\n",
       "      <th>38</th>\n",
       "      <td>39</td>\n",
       "      <td>Female</td>\n",
       "      <td>36</td>\n",
       "      <td>37</td>\n",
       "      <td>26</td>\n",
       "    </tr>\n",
       "    <tr>\n",
       "      <th>39</th>\n",
       "      <td>40</td>\n",
       "      <td>Female</td>\n",
       "      <td>20</td>\n",
       "      <td>37</td>\n",
       "      <td>75</td>\n",
       "    </tr>\n",
       "  </tbody>\n",
       "</table>\n",
       "</div>"
      ],
      "text/plain": [
       "    CustomerID  Gender  Age  Annual Income (k$)  Spending Score (1-100)\n",
       "0            1    Male   19                  15                      39\n",
       "1            2    Male   21                  15                      81\n",
       "2            3  Female   20                  16                       6\n",
       "3            4  Female   23                  16                      77\n",
       "4            5  Female   31                  17                      40\n",
       "5            6  Female   22                  17                      76\n",
       "6            7  Female   35                  18                       6\n",
       "7            8  Female   23                  18                      94\n",
       "8            9    Male   64                  19                       3\n",
       "9           10  Female   30                  19                      72\n",
       "10          11    Male   67                  19                      14\n",
       "11          12  Female   35                  19                      99\n",
       "12          13  Female   58                  20                      15\n",
       "13          14  Female   24                  20                      77\n",
       "14          15    Male   37                  20                      13\n",
       "15          16    Male   22                  20                      79\n",
       "16          17  Female   35                  21                      35\n",
       "17          18    Male   20                  21                      66\n",
       "18          19    Male   52                  23                      29\n",
       "19          20  Female   35                  23                      98\n",
       "20          21    Male   35                  24                      35\n",
       "21          22    Male   25                  24                      73\n",
       "22          23  Female   46                  25                       5\n",
       "23          24    Male   31                  25                      73\n",
       "24          25  Female   54                  28                      14\n",
       "25          26    Male   29                  28                      82\n",
       "26          27  Female   45                  28                      32\n",
       "27          28    Male   35                  28                      61\n",
       "28          29  Female   40                  29                      31\n",
       "29          30  Female   23                  29                      87\n",
       "30          31    Male   60                  30                       4\n",
       "31          32  Female   21                  30                      73\n",
       "32          33    Male   53                  33                       4\n",
       "33          34    Male   18                  33                      92\n",
       "34          35  Female   49                  33                      14\n",
       "35          36  Female   21                  33                      81\n",
       "36          37  Female   42                  34                      17\n",
       "37          38  Female   30                  34                      73\n",
       "38          39  Female   36                  37                      26\n",
       "39          40  Female   20                  37                      75"
      ]
     },
     "execution_count": 19,
     "metadata": {},
     "output_type": "execute_result"
    }
   ],
   "source": [
    "Datos.head(40)"
   ]
  },
  {
   "cell_type": "code",
   "execution_count": 20,
   "id": "fc1058df-aac8-4eaf-9828-4f8d800b44eb",
   "metadata": {},
   "outputs": [
    {
     "data": {
      "text/html": [
       "<div>\n",
       "<style scoped>\n",
       "    .dataframe tbody tr th:only-of-type {\n",
       "        vertical-align: middle;\n",
       "    }\n",
       "\n",
       "    .dataframe tbody tr th {\n",
       "        vertical-align: top;\n",
       "    }\n",
       "\n",
       "    .dataframe thead th {\n",
       "        text-align: right;\n",
       "    }\n",
       "</style>\n",
       "<table border=\"1\" class=\"dataframe\">\n",
       "  <thead>\n",
       "    <tr style=\"text-align: right;\">\n",
       "      <th></th>\n",
       "      <th>CustomerID</th>\n",
       "      <th>Age</th>\n",
       "      <th>Annual Income (k$)</th>\n",
       "      <th>Spending Score (1-100)</th>\n",
       "    </tr>\n",
       "  </thead>\n",
       "  <tbody>\n",
       "    <tr>\n",
       "      <th>count</th>\n",
       "      <td>200.000000</td>\n",
       "      <td>200.000000</td>\n",
       "      <td>200.000000</td>\n",
       "      <td>200.000000</td>\n",
       "    </tr>\n",
       "    <tr>\n",
       "      <th>mean</th>\n",
       "      <td>100.500000</td>\n",
       "      <td>38.850000</td>\n",
       "      <td>60.560000</td>\n",
       "      <td>50.200000</td>\n",
       "    </tr>\n",
       "    <tr>\n",
       "      <th>std</th>\n",
       "      <td>57.879185</td>\n",
       "      <td>13.969007</td>\n",
       "      <td>26.264721</td>\n",
       "      <td>25.823522</td>\n",
       "    </tr>\n",
       "    <tr>\n",
       "      <th>min</th>\n",
       "      <td>1.000000</td>\n",
       "      <td>18.000000</td>\n",
       "      <td>15.000000</td>\n",
       "      <td>1.000000</td>\n",
       "    </tr>\n",
       "    <tr>\n",
       "      <th>25%</th>\n",
       "      <td>50.750000</td>\n",
       "      <td>28.750000</td>\n",
       "      <td>41.500000</td>\n",
       "      <td>34.750000</td>\n",
       "    </tr>\n",
       "    <tr>\n",
       "      <th>50%</th>\n",
       "      <td>100.500000</td>\n",
       "      <td>36.000000</td>\n",
       "      <td>61.500000</td>\n",
       "      <td>50.000000</td>\n",
       "    </tr>\n",
       "    <tr>\n",
       "      <th>75%</th>\n",
       "      <td>150.250000</td>\n",
       "      <td>49.000000</td>\n",
       "      <td>78.000000</td>\n",
       "      <td>73.000000</td>\n",
       "    </tr>\n",
       "    <tr>\n",
       "      <th>max</th>\n",
       "      <td>200.000000</td>\n",
       "      <td>70.000000</td>\n",
       "      <td>137.000000</td>\n",
       "      <td>99.000000</td>\n",
       "    </tr>\n",
       "  </tbody>\n",
       "</table>\n",
       "</div>"
      ],
      "text/plain": [
       "       CustomerID         Age  Annual Income (k$)  Spending Score (1-100)\n",
       "count  200.000000  200.000000          200.000000              200.000000\n",
       "mean   100.500000   38.850000           60.560000               50.200000\n",
       "std     57.879185   13.969007           26.264721               25.823522\n",
       "min      1.000000   18.000000           15.000000                1.000000\n",
       "25%     50.750000   28.750000           41.500000               34.750000\n",
       "50%    100.500000   36.000000           61.500000               50.000000\n",
       "75%    150.250000   49.000000           78.000000               73.000000\n",
       "max    200.000000   70.000000          137.000000               99.000000"
      ]
     },
     "execution_count": 20,
     "metadata": {},
     "output_type": "execute_result"
    }
   ],
   "source": [
    "#DESCRIPCION DE LOS DATOS\n",
    "Datos.describe()"
   ]
  },
  {
   "cell_type": "code",
   "execution_count": 21,
   "id": "7adbc66e-3fef-45a6-bf75-2bc26ed5a8e2",
   "metadata": {},
   "outputs": [
    {
     "data": {
      "text/plain": [
       "Text(0.5, 1.0, 'Identificacion de valores faltantes y atipicos')"
      ]
     },
     "execution_count": 21,
     "metadata": {},
     "output_type": "execute_result"
    },
    {
     "data": {
      "image/png": "[encoded data removed]",
      "text/plain": [
       "<Figure size 600x300 with 1 Axes>"
      ]
     },
     "metadata": {},
     "output_type": "display_data"
    }
   ],
   "source": [
    "#IDENTIFICACION DE VALORES FALTANTES Y ATIPICOS\n",
    "plt.figure(figsize=(6,3))\n",
    "sns.boxplot(x=Datos['Annual Income (k$)'])\n",
    "plt.title('Identificacion de valores faltantes y atipicos', fontsize= 10)"
   ]
  },
  {
   "cell_type": "code",
   "execution_count": 22,
   "id": "9627d0d6-a6f7-49e0-b738-88fb5ea1e517",
   "metadata": {},
   "outputs": [
    {
     "data": {
      "text/plain": [
       "Text(0.5, 1.0, 'Identificacion de valores faltantes y atipicos')"
      ]
     },
     "execution_count": 22,
     "metadata": {},
     "output_type": "execute_result"
    },
    {
     "data": {
      "image/png": "[encoded data removed]",
      "text/plain": [
       "<Figure size 600x300 with 1 Axes>"
      ]
     },
     "metadata": {},
     "output_type": "display_data"
    }
   ],
   "source": [
    "#IDENTIFICACION DE VALORES FALTANTES Y ATIPICOS\n",
    "plt.figure(figsize=(6,3))\n",
    "sns.boxplot(x=Datos['Spending Score (1-100)'])\n",
    "plt.title('Identificacion de valores faltantes y atipicos', fontsize= 10)"
   ]
  },
  {
   "cell_type": "code",
   "execution_count": 23,
   "id": "90ab7d5c-7647-4e79-a398-cf62e5f99149",
   "metadata": {},
   "outputs": [
    {
     "data": {
      "text/plain": [
       "Text(0.5, 1.0, 'Identificacion de valores faltantes y atipicos')"
      ]
     },
     "execution_count": 23,
     "metadata": {},
     "output_type": "execute_result"
    },
    {
     "data": {
      "image/png": "[encoded data removed]",
      "text/plain": [
       "<Figure size 600x300 with 1 Axes>"
      ]
     },
     "metadata": {},
     "output_type": "display_data"
    }
   ],
   "source": [
    "#IDENTIFICACION DE VALORES FALTANTES Y ATIPICOS\n",
    "plt.figure(figsize=(6,3))\n",
    "sns.boxplot(x=Datos['Age'])\n",
    "plt.title('Identificacion de valores faltantes y atipicos', fontsize= 10)"
   ]
  },
  {
   "cell_type": "code",
   "execution_count": 24,
   "id": "2e2aff29-053a-418b-ba98-f26b3bd28816",
   "metadata": {},
   "outputs": [
    {
     "name": "stdout",
     "output_type": "stream",
     "text": [
      "cantidad de registros en trestbps 0\n",
      "cantidad de registros en sex 0\n",
      "cantidad de registros en cp 0\n"
     ]
    }
   ],
   "source": [
    "#2. Preprocesar los datos limpiándolos, tratando valores faltantes y \n",
    "#transformándolos según sea necesario. \n",
    "print(\"cantidad de registros en trestbps\",Datos['Annual Income (k$)'].isin([0]).sum())\n",
    "print(\"cantidad de registros en sex\",Datos['Spending Score (1-100)'].isin([0]).sum())\n",
    "print(\"cantidad de registros en cp\",Datos['Age'].isin([0]).sum())"
   ]
  },
  {
   "cell_type": "code",
   "execution_count": 25,
   "id": "2c3e3501-d7e7-457a-af03-ace41fdb9828",
   "metadata": {},
   "outputs": [],
   "source": [
    "#Reemplazar todos los ceros con el valor medio(promedio)de la columna\n",
    "Datos['Annual Income (k$)']= Datos['Annual Income (k$)'].replace(0,Datos['Annual Income (k$)'].mean())\n",
    "Datos['Spending Score (1-100)']= Datos['Spending Score (1-100)'].replace(0,Datos['Spending Score (1-100)'].mean())\n",
    "Datos['Age']= Datos['Age'].replace(0,Datos['Age'].mean())"
   ]
  },
  {
   "cell_type": "code",
   "execution_count": 26,
   "id": "54fe35a4-ebee-4502-b6ba-eff00cbc75cb",
   "metadata": {},
   "outputs": [
    {
     "data": {
      "text/plain": [
       "Text(0.5, 1.0, 'Identificacion de valores faltantes y atipicos')"
      ]
     },
     "execution_count": 26,
     "metadata": {},
     "output_type": "execute_result"
    },
    {
     "data": {
      "image/png": "[encoded data removed]",
      "text/plain": [
       "<Figure size 600x300 with 1 Axes>"
      ]
     },
     "metadata": {},
     "output_type": "display_data"
    }
   ],
   "source": [
    "#IDENTIFICACION DE DATOS ATIPICOS\n",
    "#IDENTIFICACION DE VALORES FALTANTES Y ATIPICOS\n",
    "plt.figure(figsize=(6,3))\n",
    "sns.boxplot(x=Datos['Annual Income (k$)'])\n",
    "plt.title('Identificacion de valores faltantes y atipicos', fontsize= 10)"
   ]
  },
  {
   "cell_type": "code",
   "execution_count": 27,
   "id": "073fca95-a276-45ae-8fec-6bff388df028",
   "metadata": {},
   "outputs": [
    {
     "name": "stdout",
     "output_type": "stream",
     "text": [
      "el total de datos atipicos es: 14\n"
     ]
    }
   ],
   "source": [
    "#conteo de datos atipicos\n",
    "nivel_minimo=1\n",
    "nivel_maximo=100\n",
    "Total_Atipicos=((Datos['Annual Income (k$)']<nivel_minimo)|(Datos['Annual Income (k$)']>nivel_maximo)).sum()\n",
    "print(\"el total de datos atipicos es: {}\".format(Total_Atipicos))"
   ]
  },
  {
   "cell_type": "code",
   "execution_count": 28,
   "id": "3e706572-2d9d-440d-8865-cca5651d5474",
   "metadata": {},
   "outputs": [],
   "source": [
    "#filtro de datos Atipicos\n",
    "Datos=Datos[(Datos['Annual Income (k$)']<nivel_maximo)&(Datos['Annual Income (k$)']>nivel_minimo)]"
   ]
  },
  {
   "cell_type": "code",
   "execution_count": 29,
   "id": "5695046c-19a1-4933-aa09-074c312e492d",
   "metadata": {},
   "outputs": [
    {
     "name": "stdout",
     "output_type": "stream",
     "text": [
      "<class 'pandas.core.frame.DataFrame'>\n",
      "Index: 186 entries, 0 to 185\n",
      "Data columns (total 5 columns):\n",
      " #   Column                  Non-Null Count  Dtype \n",
      "---  ------                  --------------  ----- \n",
      " 0   CustomerID              186 non-null    int64 \n",
      " 1   Gender                  186 non-null    object\n",
      " 2   Age                     186 non-null    int64 \n",
      " 3   Annual Income (k$)      186 non-null    int64 \n",
      " 4   Spending Score (1-100)  186 non-null    int64 \n",
      "dtypes: int64(4), object(1)\n",
      "memory usage: 8.7+ KB\n"
     ]
    }
   ],
   "source": [
    "#REVISION DEL TIPO DE DATOS Y DATOS FALTANTES\n",
    "Datos.info()"
   ]
  },
  {
   "cell_type": "code",
   "execution_count": 30,
   "id": "d215dca2-69a1-4bb6-a648-45f56e7f5047",
   "metadata": {},
   "outputs": [],
   "source": [
    "#3. Seleccionar las características más relevantes para entrenar el \n",
    "#modelo utilizando selección de características\n",
    "\n",
    "#CARACTERISTICAS DE INTERES PARA EL AGRUPAMIENTO\n",
    "#centro comercial: mall\n",
    "#cliente: customer\n",
    "#género: gender\n",
    "\n",
    "#ingreso anual, Annual income\n",
    "#puntaje de gasto, spending score\n",
    "\n",
    "#FILTRAR COLUMNAS DEL MODELO\n",
    "Datos=Datos[[\"Age\",\"Annual Income (k$)\",\"Spending Score (1-100)\"]]\n",
    "\n",
    "\n",
    "\n",
    "\n"
   ]
  },
  {
   "cell_type": "code",
   "execution_count": 31,
   "id": "9ef243fd-d07e-4365-837f-127d3e752753",
   "metadata": {},
   "outputs": [
    {
     "data": {
      "text/html": [
       "<div>\n",
       "<style scoped>\n",
       "    .dataframe tbody tr th:only-of-type {\n",
       "        vertical-align: middle;\n",
       "    }\n",
       "\n",
       "    .dataframe tbody tr th {\n",
       "        vertical-align: top;\n",
       "    }\n",
       "\n",
       "    .dataframe thead th {\n",
       "        text-align: right;\n",
       "    }\n",
       "</style>\n",
       "<table border=\"1\" class=\"dataframe\">\n",
       "  <thead>\n",
       "    <tr style=\"text-align: right;\">\n",
       "      <th></th>\n",
       "      <th>Age</th>\n",
       "      <th>Annual Income (k$)</th>\n",
       "      <th>Spending Score (1-100)</th>\n",
       "    </tr>\n",
       "  </thead>\n",
       "  <tbody>\n",
       "    <tr>\n",
       "      <th>0</th>\n",
       "      <td>19</td>\n",
       "      <td>15</td>\n",
       "      <td>39</td>\n",
       "    </tr>\n",
       "    <tr>\n",
       "      <th>1</th>\n",
       "      <td>21</td>\n",
       "      <td>15</td>\n",
       "      <td>81</td>\n",
       "    </tr>\n",
       "    <tr>\n",
       "      <th>2</th>\n",
       "      <td>20</td>\n",
       "      <td>16</td>\n",
       "      <td>6</td>\n",
       "    </tr>\n",
       "    <tr>\n",
       "      <th>3</th>\n",
       "      <td>23</td>\n",
       "      <td>16</td>\n",
       "      <td>77</td>\n",
       "    </tr>\n",
       "    <tr>\n",
       "      <th>4</th>\n",
       "      <td>31</td>\n",
       "      <td>17</td>\n",
       "      <td>40</td>\n",
       "    </tr>\n",
       "    <tr>\n",
       "      <th>5</th>\n",
       "      <td>22</td>\n",
       "      <td>17</td>\n",
       "      <td>76</td>\n",
       "    </tr>\n",
       "    <tr>\n",
       "      <th>6</th>\n",
       "      <td>35</td>\n",
       "      <td>18</td>\n",
       "      <td>6</td>\n",
       "    </tr>\n",
       "    <tr>\n",
       "      <th>7</th>\n",
       "      <td>23</td>\n",
       "      <td>18</td>\n",
       "      <td>94</td>\n",
       "    </tr>\n",
       "    <tr>\n",
       "      <th>8</th>\n",
       "      <td>64</td>\n",
       "      <td>19</td>\n",
       "      <td>3</td>\n",
       "    </tr>\n",
       "    <tr>\n",
       "      <th>9</th>\n",
       "      <td>30</td>\n",
       "      <td>19</td>\n",
       "      <td>72</td>\n",
       "    </tr>\n",
       "  </tbody>\n",
       "</table>\n",
       "</div>"
      ],
      "text/plain": [
       "   Age  Annual Income (k$)  Spending Score (1-100)\n",
       "0   19                  15                      39\n",
       "1   21                  15                      81\n",
       "2   20                  16                       6\n",
       "3   23                  16                      77\n",
       "4   31                  17                      40\n",
       "5   22                  17                      76\n",
       "6   35                  18                       6\n",
       "7   23                  18                      94\n",
       "8   64                  19                       3\n",
       "9   30                  19                      72"
      ]
     },
     "execution_count": 31,
     "metadata": {},
     "output_type": "execute_result"
    }
   ],
   "source": [
    "#REVISION DE LOS DATOS DE LAS VARIABLES OBJETIVO\n",
    "Datos.head(10)"
   ]
  },
  {
   "cell_type": "code",
   "execution_count": 32,
   "id": "8ee94431-592d-4ed8-8d0b-e456a3da8799",
   "metadata": {},
   "outputs": [
    {
     "data": {
      "image/png": "[encoded data removed]",
      "text/plain": [
       "<Figure size 640x480 with 1 Axes>"
      ]
     },
     "metadata": {},
     "output_type": "display_data"
    }
   ],
   "source": [
    "#GRAFICA ANTES DEL AGRUPAMIENTO\n",
    "plt.scatter(Datos['Annual Income (k$)'],Datos['Spending Score (1-100)'])\n",
    "plt.xlabel('Annual Income (k$)')\n",
    "plt.ylabel('Spending Score (1-100)')\n",
    "plt.title('Grupos de Clientes')\n",
    "plt.show()\n"
   ]
  },
  {
   "cell_type": "code",
   "execution_count": 33,
   "id": "e342f966-6c98-4221-b03d-2f63c537377a",
   "metadata": {},
   "outputs": [
    {
     "data": {
      "image/png": "[encoded data removed]",
      "text/plain": [
       "<Figure size 640x480 with 1 Axes>"
      ]
     },
     "metadata": {},
     "output_type": "display_data"
    }
   ],
   "source": [
    "#4. Entrenar el modelo configurando los diferentes hiperparámetros.\n",
    "\n",
    "#Se realza la rafica de codo para identificar el valor de K\n",
    "Nc = range(1, 8)\n",
    "kmeans = [KMeans(n_clusters=i) for i in Nc]\n",
    "kmeans\n",
    "score = [kmeans[i].fit(Datos).score(Datos) for i in range(len(kmeans))]\n",
    "score\n",
    "plt.plot(Nc,score, marker='o')\n",
    "plt.xlabel('Numero de Clusters')\n",
    "plt.ylabel('score')\n",
    "plt.title('Grafica de Codo')\n",
    "plt.show()"
   ]
  },
  {
   "cell_type": "code",
   "execution_count": 34,
   "id": "4a454158-4d19-46b3-b37d-89ccc3032f48",
   "metadata": {},
   "outputs": [
    {
     "data": {
      "text/html": [
       "<style>#sk-container-id-1 {color: black;background-color: white;}#sk-container-id-1 pre{padding: 0;}#sk-container-id-1 div.sk-toggleable {background-color: white;}#sk-container-id-1 label.sk-toggleable__label {cursor: pointer;display: block;width: 100%;margin-bottom: 0;padding: 0.3em;box-sizing: border-box;text-align: center;}#sk-container-id-1 label.sk-toggleable__label-arrow:before {content: \"▸\";float: left;margin-right: 0.25em;color: #696969;}#sk-container-id-1 label.sk-toggleable__label-arrow:hover:before {color: black;}#sk-container-id-1 div.sk-estimator:hover label.sk-toggleable__label-arrow:before {color: black;}#sk-container-id-1 div.sk-toggleable__content {max-height: 0;max-width: 0;overflow: hidden;text-align: left;background-color: #f0f8ff;}#sk-container-id-1 div.sk-toggleable__content pre {margin: 0.2em;color: black;border-radius: 0.25em;background-color: #f0f8ff;}#sk-container-id-1 input.sk-toggleable__control:checked~div.sk-toggleable__content {max-height: 200px;max-width: 100%;overflow: auto;}#sk-container-id-1 input.sk-toggleable__control:checked~label.sk-toggleable__label-arrow:before {content: \"▾\";}#sk-container-id-1 div.sk-estimator input.sk-toggleable__control:checked~label.sk-toggleable__label {background-color: #d4ebff;}#sk-container-id-1 div.sk-label input.sk-toggleable__control:checked~label.sk-toggleable__label {background-color: #d4ebff;}#sk-container-id-1 input.sk-hidden--visually {border: 0;clip: rect(1px 1px 1px 1px);clip: rect(1px, 1px, 1px, 1px);height: 1px;margin: -1px;overflow: hidden;padding: 0;position: absolute;width: 1px;}#sk-container-id-1 div.sk-estimator {font-family: monospace;background-color: #f0f8ff;border: 1px dotted black;border-radius: 0.25em;box-sizing: border-box;margin-bottom: 0.5em;}#sk-container-id-1 div.sk-estimator:hover {background-color: #d4ebff;}#sk-container-id-1 div.sk-parallel-item::after {content: \"\";width: 100%;border-bottom: 1px solid gray;flex-grow: 1;}#sk-container-id-1 div.sk-label:hover label.sk-toggleable__label {background-color: #d4ebff;}#sk-container-id-1 div.sk-serial::before {content: \"\";position: absolute;border-left: 1px solid gray;box-sizing: border-box;top: 0;bottom: 0;left: 50%;z-index: 0;}#sk-container-id-1 div.sk-serial {display: flex;flex-direction: column;align-items: center;background-color: white;padding-right: 0.2em;padding-left: 0.2em;position: relative;}#sk-container-id-1 div.sk-item {position: relative;z-index: 1;}#sk-container-id-1 div.sk-parallel {display: flex;align-items: stretch;justify-content: center;background-color: white;position: relative;}#sk-container-id-1 div.sk-item::before, #sk-container-id-1 div.sk-parallel-item::before {content: \"\";position: absolute;border-left: 1px solid gray;box-sizing: border-box;top: 0;bottom: 0;left: 50%;z-index: -1;}#sk-container-id-1 div.sk-parallel-item {display: flex;flex-direction: column;z-index: 1;position: relative;background-color: white;}#sk-container-id-1 div.sk-parallel-item:first-child::after {align-self: flex-end;width: 50%;}#sk-container-id-1 div.sk-parallel-item:last-child::after {align-self: flex-start;width: 50%;}#sk-container-id-1 div.sk-parallel-item:only-child::after {width: 0;}#sk-container-id-1 div.sk-dashed-wrapped {border: 1px dashed gray;margin: 0 0.4em 0.5em 0.4em;box-sizing: border-box;padding-bottom: 0.4em;background-color: white;}#sk-container-id-1 div.sk-label label {font-family: monospace;font-weight: bold;display: inline-block;line-height: 1.2em;}#sk-container-id-1 div.sk-label-container {text-align: center;}#sk-container-id-1 div.sk-container {/* jupyter's `normalize.less` sets `[hidden] { display: none; }` but bootstrap.min.css set `[hidden] { display: none !important; }` so we also need the `!important` here to be able to override the default hidden behavior on the sphinx rendered scikit-learn.org. See: https://github.com/scikit-learn/scikit-learn/issues/21755 */display: inline-block !important;position: relative;}#sk-container-id-1 div.sk-text-repr-fallback {display: none;}</style><div id=\"sk-container-id-1\" class=\"sk-top-container\"><div class=\"sk-text-repr-fallback\"><pre>KMeans(n_clusters=7, random_state=0)</pre><b>In a Jupyter environment, please rerun this cell to show the HTML representation or trust the notebook. <br />On GitHub, the HTML representation is unable to render, please try loading this page with nbviewer.org.</b></div><div class=\"sk-container\" hidden><div class=\"sk-item\"><div class=\"sk-estimator sk-toggleable\"><input class=\"sk-toggleable__control sk-hidden--visually\" id=\"sk-estimator-id-1\" type=\"checkbox\" checked><label for=\"sk-estimator-id-1\" class=\"sk-toggleable__label sk-toggleable__label-arrow\">KMeans</label><div class=\"sk-toggleable__content\"><pre>KMeans(n_clusters=7, random_state=0)</pre></div></div></div></div></div>"
      ],
      "text/plain": [
       "KMeans(n_clusters=7, random_state=0)"
      ]
     },
     "execution_count": 34,
     "metadata": {},
     "output_type": "execute_result"
    }
   ],
   "source": [
    "#GENERACION DEL MODELO DE AGRUPAMIENTO DEL MODELO K = 5\n",
    "Modelo= KMeans(n_clusters=7, random_state=0)\n",
    "Modelo.fit(Datos)"
   ]
  },
  {
   "cell_type": "code",
   "execution_count": 35,
   "id": "7e6eece4-7a29-48e6-8f6d-2462dffde67a",
   "metadata": {},
   "outputs": [
    {
     "name": "stdout",
     "output_type": "stream",
     "text": [
      "     Age  Annual Income (k$)  Spending Score (1-100)  Grupo\n",
      "0     19                  15                      39      6\n",
      "1     21                  15                      81      5\n",
      "2     20                  16                       6      1\n",
      "3     23                  16                      77      5\n",
      "4     31                  17                      40      6\n",
      "..   ...                 ...                     ...    ...\n",
      "181   32                  97                      86      0\n",
      "182   46                  98                      15      2\n",
      "183   29                  98                      88      0\n",
      "184   41                  99                      39      2\n",
      "185   30                  99                      97      0\n",
      "\n",
      "[186 rows x 4 columns]\n"
     ]
    }
   ],
   "source": [
    "#SE AGREGA LA COLUMNA GRUPO A LA BD PARA IDENTIFICAR EL NUMERO DE GRUPO DEL ARUPAMIENTO\n",
    "Modelo.labels_\n",
    "Datos[\"Grupo\"] = Modelo.labels_\n",
    "print(Datos)"
   ]
  },
  {
   "cell_type": "code",
   "execution_count": 38,
   "id": "304824eb-840b-4749-a879-f4ddd72c9035",
   "metadata": {},
   "outputs": [
    {
     "name": "stdout",
     "output_type": "stream",
     "text": [
      "+--------------------------+---------------------+\n",
      "|          Metric          |        value        |\n",
      "+--------------------------+---------------------+\n",
      "| Numero de observaciones  |         186         |\n",
      "|  Coeficiente silhouette  | 0.45560078593833014 |\n",
      "| Indice calinski Harabasz | 164.74772753442204  |\n",
      "|  Indice Davies Bouldin   | 0.7794993564158735  |\n",
      "+--------------------------+---------------------+\n"
     ]
    }
   ],
   "source": [
    "#5. Evaluar el desempeño del modelo con métricas como \n",
    "#Coeficiente de Silhouette, Índice de Calinski-Harabasz, etc.\n",
    "\n",
    "#Preparacion de la metrica de  la columna grupo\n",
    "Observaciones = len(Datos)\n",
    "x= Datos.drop('Grupo', axis=1)\n",
    "clusters = Datos['Grupo']\n",
    "\n",
    "#se calculcan las metricas\n",
    "sil_score = silhouette_score(x, clusters)\n",
    "calinski_score = calinski_harabasz_score(x, clusters)\n",
    "davies_score = davies_bouldin_score(x, clusters)\n",
    "\n",
    "#se crea una tabla para mostrar los valores de las metricas\n",
    "table_data = [\n",
    "    [\"Numero de observaciones\", Observaciones],\n",
    "    [\"Coeficiente silhouette\", sil_score],\n",
    "    [\"Indice calinski Harabasz\", calinski_score],\n",
    "    [\"Indice Davies Bouldin\", davies_score]\n",
    "]\n",
    "\n",
    "#Imprir tabla\n",
    "from tabulate import tabulate\n",
    "print(tabulate(table_data, headers=[\"Metric\", \"value\"], tablefmt='pretty'))\n",
    "    "
   ]
  },
  {
   "cell_type": "code",
   "execution_count": 42,
   "id": "0f19fa26-5133-4fc2-9a51-5205b4b4fd1d",
   "metadata": {},
   "outputs": [
    {
     "data": {
      "image/png": "[encoded data removed]",
      "text/plain": [
       "<Figure size 640x480 with 1 Axes>"
      ]
     },
     "metadata": {},
     "output_type": "display_data"
    }
   ],
   "source": [
    "#6. Realizar las diferentes gráficas que permitan visualizar los resultados del modelo\n",
    "plt.scatter(Datos['Annual Income (k$)'], Datos['Spending Score (1-100)'],c=Datos['Grupo'], cmap='viridis')\n",
    "plt.xlabel('INGRESO ANUAL')\n",
    "plt.ylabel('PUNTAJE DE GASTO')\n",
    "plt.title('Grupos de Clentes')\n",
    "plt.show()\n",
    "\n"
   ]
  },
  {
   "cell_type": "code",
   "execution_count": null,
   "id": "2b038df5-f9e8-4d5f-b66e-de75b7ac68dd",
   "metadata": {},
   "outputs": [],
   "source": [
    "#LOS DATOS AGRUPADOS"
   ]
  }
 ],
 "metadata": {
  "kernelspec": {
   "display_name": "Python 3 (ipykernel)",
   "language": "python",
   "name": "python3"
  },
  "language_info": {
   "codemirror_mode": {
    "name": "ipython",
    "version": 3
   },
   "file_extension": ".py",
   "mimetype": "text/x-python",
   "name": "python",
   "nbconvert_exporter": "python",
   "pygments_lexer": "ipython3",
   "version": "3.11.7"
  },
  "widgets": {
   "application/vnd.jupyter.widget-state+json": {
    "state": {},
    "version_major": 2,
    "version_minor": 0
   }
  }
 },
 "nbformat": 4,
 "nbformat_minor": 5
}
